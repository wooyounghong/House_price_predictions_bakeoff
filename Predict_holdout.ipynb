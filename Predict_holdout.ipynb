{
 "cells": [
  {
   "cell_type": "code",
   "execution_count": 16,
   "metadata": {},
   "outputs": [],
   "source": [
    "import pandas as pd\n",
    "pd.set_option('display.max_columns', 300)\n",
    "from datetime import datetime\n",
    "import numpy as np"
   ]
  },
  {
   "cell_type": "markdown",
   "metadata": {},
   "source": [
    "## Step 1: Read in hold out data, scalers, and best model"
   ]
  },
  {
   "cell_type": "code",
   "execution_count": 23,
   "metadata": {},
   "outputs": [],
   "source": [
    "### making new notebooks\n",
    "import pickle\n",
    "pickle_in = open(\"model.pickle\",\"rb\")\n",
    "model = pickle.load(pickle_in)\n",
    "scaler = pickle.load(open(\"scaler.pickle\", 'rb'))"
   ]
  },
  {
   "cell_type": "code",
   "execution_count": null,
   "metadata": {},
   "outputs": [],
   "source": []
  },
  {
   "cell_type": "code",
   "execution_count": 24,
   "metadata": {},
   "outputs": [],
   "source": [
    "holdout = pd.read_csv('kc_house_data_test_features.csv', index_col=0)"
   ]
  },
  {
   "cell_type": "code",
   "execution_count": 25,
   "metadata": {},
   "outputs": [],
   "source": [
    "def clean_data(test_df):\n",
    "    test_df.date = test_df.date.apply(lambda x: x[0:8])\n",
    "    test_df['yr_sold'] = test_df.date.apply(lambda x: datetime.strptime(x, \"%Y%m%d\").year)\n",
    "    test_df = test_df.drop(axis=1, columns=['id', 'date', 'floors'])\n",
    "    test_df['log_sqft_living'] = np.where(test_df['sqft_living'], np.log(test_df['sqft_living']), test_df['sqft_living'])\n",
    "    test_df.drop(columns=['sqft_lot'], axis=1, inplace=True)\n",
    "    test_df.drop(columns=['sqft_living'], inplace=True, axis=1)\n",
    "\n",
    "    # Create is_renovated column: if house is equal to or older than 2000, then it is renovated.\n",
    "\n",
    "    test_df['is_renovated']=np.where(test_df['yr_renovated'] >= 2000, 1, 0)\n",
    "    test_df['yr_old'] = np.where(test_df['yr_built'], datetime.now().year - test_df['yr_built'], test_df['yr_built'])\n",
    "    test_df['is_viewed'] = np.where(test_df['view'] > 0, 1, 0)\n",
    "\n",
    "\n",
    "\n",
    "\n",
    "    # np.log on skewed_cols\n",
    "    test_df['log_sqft_above'] = np.where(test_df['sqft_above'], np.log(test_df['sqft_above']), test_df['sqft_above'])\n",
    "    test_df['log_sqft_basement'] = np.where(test_df['sqft_basement'], np.log(test_df['sqft_basement']), test_df['sqft_basement'])\n",
    "    test_df['log_sqft_living15'] = np.where(test_df['sqft_living15'], np.log(test_df['sqft_living15']), test_df['sqft_living15'])\n",
    "\n",
    "    skewed_cols = ['sqft_above', 'sqft_basement', 'sqft_living15', 'sqft_lot15']\n",
    "    test_df.drop(columns=skewed_cols, axis=1, inplace=True)\n",
    "    test_df.drop(columns=['yr_built'], inplace=True, axis=1)\n",
    "\n",
    "    test_df = pd.concat([test_df, pd.get_dummies(test_df['zipcode'], drop_first=True)], axis=1)\n",
    "    test_df.drop('zipcode', axis=1, inplace=True)\n",
    "\n",
    "    test_df.columns = test_df.columns.map(lambda x: 'zip_' + str(x) if type(x) != str else x)\n",
    "    return test_df"
   ]
  },
  {
   "cell_type": "code",
   "execution_count": 26,
   "metadata": {},
   "outputs": [],
   "source": [
    "df = clean_data(holdout)"
   ]
  },
  {
   "cell_type": "code",
   "execution_count": 27,
   "metadata": {},
   "outputs": [],
   "source": [
    "df = scaler.fit_transform(df)"
   ]
  },
  {
   "cell_type": "code",
   "execution_count": null,
   "metadata": {},
   "outputs": [],
   "source": [
    "# final_scaler = read_pickle(filename)\n",
    "# final_model = read_pickle(filename)"
   ]
  },
  {
   "cell_type": "markdown",
   "metadata": {},
   "source": [
    "## Step 2: Feature Engineering for holdout set"
   ]
  },
  {
   "cell_type": "markdown",
   "metadata": {},
   "source": [
    "Remember we have to perform the same transformations on our holdout data (feature engineering, extreme values and scaling) that we performed on the original data.  "
   ]
  },
  {
   "cell_type": "code",
   "execution_count": null,
   "metadata": {},
   "outputs": [],
   "source": [
    "# transformed_holdout = final_scaler(holdout)"
   ]
  },
  {
   "cell_type": "markdown",
   "metadata": {},
   "source": [
    "## Step 3: Predict the holdout set"
   ]
  },
  {
   "cell_type": "code",
   "execution_count": 30,
   "metadata": {},
   "outputs": [
    {
     "data": {
      "text/plain": [
       "array([586112.75687086, 614418.08624037, 423299.90115152, ...,\n",
       "       186232.22111591, 441609.29005293, 187937.18551852])"
      ]
     },
     "execution_count": 30,
     "metadata": {},
     "output_type": "execute_result"
    }
   ],
   "source": [
    "final_answers = model.predict(df)\n",
    "final_answers"
   ]
  },
  {
   "cell_type": "code",
   "execution_count": 31,
   "metadata": {},
   "outputs": [],
   "source": [
    "final_answers = pd.DataFrame(final_answers)"
   ]
  },
  {
   "cell_type": "code",
   "execution_count": 32,
   "metadata": {},
   "outputs": [
    {
     "data": {
      "text/html": [
       "<div>\n",
       "<style scoped>\n",
       "    .dataframe tbody tr th:only-of-type {\n",
       "        vertical-align: middle;\n",
       "    }\n",
       "\n",
       "    .dataframe tbody tr th {\n",
       "        vertical-align: top;\n",
       "    }\n",
       "\n",
       "    .dataframe thead th {\n",
       "        text-align: right;\n",
       "    }\n",
       "</style>\n",
       "<table border=\"1\" class=\"dataframe\">\n",
       "  <thead>\n",
       "    <tr style=\"text-align: right;\">\n",
       "      <th></th>\n",
       "      <th>0</th>\n",
       "    </tr>\n",
       "  </thead>\n",
       "  <tbody>\n",
       "    <tr>\n",
       "      <th>0</th>\n",
       "      <td>586112.756871</td>\n",
       "    </tr>\n",
       "    <tr>\n",
       "      <th>1</th>\n",
       "      <td>614418.086240</td>\n",
       "    </tr>\n",
       "    <tr>\n",
       "      <th>2</th>\n",
       "      <td>423299.901152</td>\n",
       "    </tr>\n",
       "    <tr>\n",
       "      <th>3</th>\n",
       "      <td>381387.778570</td>\n",
       "    </tr>\n",
       "    <tr>\n",
       "      <th>4</th>\n",
       "      <td>532191.621249</td>\n",
       "    </tr>\n",
       "    <tr>\n",
       "      <th>...</th>\n",
       "      <td>...</td>\n",
       "    </tr>\n",
       "    <tr>\n",
       "      <th>4318</th>\n",
       "      <td>507389.649801</td>\n",
       "    </tr>\n",
       "    <tr>\n",
       "      <th>4319</th>\n",
       "      <td>466480.411032</td>\n",
       "    </tr>\n",
       "    <tr>\n",
       "      <th>4320</th>\n",
       "      <td>186232.221116</td>\n",
       "    </tr>\n",
       "    <tr>\n",
       "      <th>4321</th>\n",
       "      <td>441609.290053</td>\n",
       "    </tr>\n",
       "    <tr>\n",
       "      <th>4322</th>\n",
       "      <td>187937.185519</td>\n",
       "    </tr>\n",
       "  </tbody>\n",
       "</table>\n",
       "<p>4323 rows × 1 columns</p>\n",
       "</div>"
      ],
      "text/plain": [
       "                  0\n",
       "0     586112.756871\n",
       "1     614418.086240\n",
       "2     423299.901152\n",
       "3     381387.778570\n",
       "4     532191.621249\n",
       "...             ...\n",
       "4318  507389.649801\n",
       "4319  466480.411032\n",
       "4320  186232.221116\n",
       "4321  441609.290053\n",
       "4322  187937.185519\n",
       "\n",
       "[4323 rows x 1 columns]"
      ]
     },
     "execution_count": 32,
     "metadata": {},
     "output_type": "execute_result"
    }
   ],
   "source": [
    "final_answers"
   ]
  },
  {
   "cell_type": "markdown",
   "metadata": {},
   "source": [
    "## Step 4: Export your predictions"
   ]
  },
  {
   "cell_type": "code",
   "execution_count": 34,
   "metadata": {},
   "outputs": [],
   "source": [
    "final_answers.to_csv('WH-AN_prediction.csv')"
   ]
  },
  {
   "cell_type": "code",
   "execution_count": null,
   "metadata": {},
   "outputs": [],
   "source": []
  }
 ],
 "metadata": {
  "kernelspec": {
   "display_name": "Python 3",
   "language": "python",
   "name": "python3"
  },
  "language_info": {
   "codemirror_mode": {
    "name": "ipython",
    "version": 3
   },
   "file_extension": ".py",
   "mimetype": "text/x-python",
   "name": "python",
   "nbconvert_exporter": "python",
   "pygments_lexer": "ipython3",
   "version": "3.7.6"
  }
 },
 "nbformat": 4,
 "nbformat_minor": 2
}
